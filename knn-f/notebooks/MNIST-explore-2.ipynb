{
 "cells": [
  {
   "cell_type": "code",
   "execution_count": 1,
   "metadata": {},
   "outputs": [
    {
     "name": "stderr",
     "output_type": "stream",
     "text": [
      "/opt/anaconda3/envs/tf/lib/python3.7/site-packages/tensorflow/python/framework/dtypes.py:516: FutureWarning: Passing (type, 1) or '1type' as a synonym of type is deprecated; in a future version of numpy, it will be understood as (type, (1,)) / '(1,)type'.\n",
      "  _np_qint8 = np.dtype([(\"qint8\", np.int8, 1)])\n",
      "/opt/anaconda3/envs/tf/lib/python3.7/site-packages/tensorflow/python/framework/dtypes.py:517: FutureWarning: Passing (type, 1) or '1type' as a synonym of type is deprecated; in a future version of numpy, it will be understood as (type, (1,)) / '(1,)type'.\n",
      "  _np_quint8 = np.dtype([(\"quint8\", np.uint8, 1)])\n",
      "/opt/anaconda3/envs/tf/lib/python3.7/site-packages/tensorflow/python/framework/dtypes.py:518: FutureWarning: Passing (type, 1) or '1type' as a synonym of type is deprecated; in a future version of numpy, it will be understood as (type, (1,)) / '(1,)type'.\n",
      "  _np_qint16 = np.dtype([(\"qint16\", np.int16, 1)])\n",
      "/opt/anaconda3/envs/tf/lib/python3.7/site-packages/tensorflow/python/framework/dtypes.py:519: FutureWarning: Passing (type, 1) or '1type' as a synonym of type is deprecated; in a future version of numpy, it will be understood as (type, (1,)) / '(1,)type'.\n",
      "  _np_quint16 = np.dtype([(\"quint16\", np.uint16, 1)])\n",
      "/opt/anaconda3/envs/tf/lib/python3.7/site-packages/tensorflow/python/framework/dtypes.py:520: FutureWarning: Passing (type, 1) or '1type' as a synonym of type is deprecated; in a future version of numpy, it will be understood as (type, (1,)) / '(1,)type'.\n",
      "  _np_qint32 = np.dtype([(\"qint32\", np.int32, 1)])\n",
      "/opt/anaconda3/envs/tf/lib/python3.7/site-packages/tensorflow/python/framework/dtypes.py:525: FutureWarning: Passing (type, 1) or '1type' as a synonym of type is deprecated; in a future version of numpy, it will be understood as (type, (1,)) / '(1,)type'.\n",
      "  np_resource = np.dtype([(\"resource\", np.ubyte, 1)])\n",
      "/opt/anaconda3/envs/tf/lib/python3.7/site-packages/tensorboard/compat/tensorflow_stub/dtypes.py:541: FutureWarning: Passing (type, 1) or '1type' as a synonym of type is deprecated; in a future version of numpy, it will be understood as (type, (1,)) / '(1,)type'.\n",
      "  _np_qint8 = np.dtype([(\"qint8\", np.int8, 1)])\n",
      "/opt/anaconda3/envs/tf/lib/python3.7/site-packages/tensorboard/compat/tensorflow_stub/dtypes.py:542: FutureWarning: Passing (type, 1) or '1type' as a synonym of type is deprecated; in a future version of numpy, it will be understood as (type, (1,)) / '(1,)type'.\n",
      "  _np_quint8 = np.dtype([(\"quint8\", np.uint8, 1)])\n",
      "/opt/anaconda3/envs/tf/lib/python3.7/site-packages/tensorboard/compat/tensorflow_stub/dtypes.py:543: FutureWarning: Passing (type, 1) or '1type' as a synonym of type is deprecated; in a future version of numpy, it will be understood as (type, (1,)) / '(1,)type'.\n",
      "  _np_qint16 = np.dtype([(\"qint16\", np.int16, 1)])\n",
      "/opt/anaconda3/envs/tf/lib/python3.7/site-packages/tensorboard/compat/tensorflow_stub/dtypes.py:544: FutureWarning: Passing (type, 1) or '1type' as a synonym of type is deprecated; in a future version of numpy, it will be understood as (type, (1,)) / '(1,)type'.\n",
      "  _np_quint16 = np.dtype([(\"quint16\", np.uint16, 1)])\n",
      "/opt/anaconda3/envs/tf/lib/python3.7/site-packages/tensorboard/compat/tensorflow_stub/dtypes.py:545: FutureWarning: Passing (type, 1) or '1type' as a synonym of type is deprecated; in a future version of numpy, it will be understood as (type, (1,)) / '(1,)type'.\n",
      "  _np_qint32 = np.dtype([(\"qint32\", np.int32, 1)])\n",
      "/opt/anaconda3/envs/tf/lib/python3.7/site-packages/tensorboard/compat/tensorflow_stub/dtypes.py:550: FutureWarning: Passing (type, 1) or '1type' as a synonym of type is deprecated; in a future version of numpy, it will be understood as (type, (1,)) / '(1,)type'.\n",
      "  np_resource = np.dtype([(\"resource\", np.ubyte, 1)])\n"
     ]
    }
   ],
   "source": [
    "import numpy as np\n",
    "import matplotlib.pyplot as plt\n",
    "import seaborn as sns\n",
    "import pandas as pd\n",
    "import tensorflow as tf\n",
    "from tensorflow.keras.datasets import mnist\n",
    "from scipy.fftpack import dct, idct\n",
    "from sklearn.neighbors import NearestNeighbors\n",
    "from sklearn.cluster import KMeans\n",
    "from sklearn.decomposition import PCA\n",
    "import networkx as nx\n",
    "import scipy.sparse as sp\n",
    "import sys\n",
    "from tqdm import tqdm\n",
    "import pickle\n",
    "import os\n",
    "\n",
    "sns.set()"
   ]
  },
  {
   "cell_type": "markdown",
   "metadata": {},
   "source": [
    "We first convert the MNIST training digits into sparse vectors with int8 entries. I think this is a fair benchmark given that the digits are in 255 levels of gray scale. The next cell reports the total size of the training split."
   ]
  },
  {
   "cell_type": "code",
   "execution_count": 2,
   "metadata": {},
   "outputs": [
    {
     "name": "stdout",
     "output_type": "stream",
     "text": [
      "Size of training dataset in sparse uint8 and compressed format: 9.808819MB\n"
     ]
    }
   ],
   "source": [
    "# load the data\n",
    "(x_train, y_train), (x_test, y_test) = mnist.load_data()\n",
    "\n",
    "# ravel and normalize -- this may be useful later, but not used now\n",
    "def ravelNorm(z):\n",
    "    x = np.ravel(z)\n",
    "    return x/np.linalg.norm(x,ord=1)\n",
    "\n",
    "# We convert the matrix to sparse format. The numbers are in np.uint8.\n",
    "Xs = [sp.coo_matrix(x,dtype=np.uint8) for x in x_train]\n",
    "data = np.concatenate([x.data.astype(np.uint8) for x in Xs])\n",
    "row = np.concatenate([x.row.astype(np.uint8) for x in Xs])\n",
    "col = np.concatenate([x.col.astype(np.uint8) for x in Xs])\n",
    "lengths = np.array([len(x.data) for x in Xs],dtype=np.uint16)\n",
    "n_samples = np.array(len(Xs))\n",
    "\n",
    "# compress file\n",
    "file = './tmp/xtrain'\n",
    "np.savez_compressed(file,vals=np.concatenate([data,row,col]),lengths=lengths)\n",
    "\n",
    "# let's look at the size of the dataset\n",
    "print('Size of training dataset in sparse uint8 and compressed format: ' + str(os.path.getsize(file+'.npz')/1e6) + 'MB')\n",
    "\n",
    "# compare with compressed numpy\n",
    "file = './tmp/xtrain_np'\n"
   ]
  },
  {
   "cell_type": "markdown",
   "metadata": {},
   "source": [
    "Let's check with just plain vanilla npz:"
   ]
  },
  {
   "cell_type": "code",
   "execution_count": 3,
   "metadata": {},
   "outputs": [
    {
     "name": "stdout",
     "output_type": "stream",
     "text": [
      "Size of training dataset in uint8 and np compressed format: 9.822208MB\n"
     ]
    }
   ],
   "source": [
    "file = './tmp/xtrain_np'\n",
    "np.savez_compressed(file,x_train=x_train)\n",
    "print('Size of training dataset in uint8 and np compressed format: ' + str(os.path.getsize(file+'.npz')/1e6) + 'MB')"
   ]
  },
  {
   "cell_type": "markdown",
   "metadata": {},
   "source": [
    "This is impressive! Numpy already does an excellent job with 'np.savez_compressed. There probably is a lot of optimization that goes in it.\n",
    "\n",
    "This is our benchmark: 60k digits at $\\approx$9MB --- already pretty small! Can we reduce it further? \n",
    "\n",
    "We fist focus on compressing the dataset if each pixel is quantized to 1 if it is non-zero and 0 otherwise. We also convert everything to np.int8 so we can operate on these numbers without overflow.\n"
   ]
  },
  {
   "cell_type": "code",
   "execution_count": 4,
   "metadata": {},
   "outputs": [
    {
     "data": {
      "text/plain": [
       "array([[0, 0, 0, ..., 0, 0, 0],\n",
       "       [0, 0, 0, ..., 0, 0, 0],\n",
       "       [0, 0, 0, ..., 0, 0, 0],\n",
       "       ...,\n",
       "       [0, 0, 0, ..., 0, 0, 0],\n",
       "       [0, 0, 0, ..., 0, 0, 0],\n",
       "       [0, 0, 0, ..., 0, 0, 0]], dtype=int8)"
      ]
     },
     "execution_count": 4,
     "metadata": {},
     "output_type": "execute_result"
    }
   ],
   "source": [
    "def quantize_ravel(x):\n",
    "    y = np.ravel(x).astype(np.int8)\n",
    "    y[y>0] = 1\n",
    "    return y\n",
    "\n",
    "X = np.array([quantize_ravel(x) for x in x_train])\n",
    "X"
   ]
  },
  {
   "cell_type": "markdown",
   "metadata": {},
   "source": [
    "Our first step is to build a k nearest neighbor graph measuring distances using the **l1 norm**. We select l0 to keep everything integer. Beware: this takes a while to run."
   ]
  },
  {
   "cell_type": "code",
   "execution_count": 5,
   "metadata": {},
   "outputs": [],
   "source": [
    "# def l0(x,y):\n",
    "#     return np.sum( (x-y) !=0)\n",
    "\n",
    "nbrs = NearestNeighbors(n_neighbors=30, algorithm='ball_tree',n_jobs=-1,leaf_size=50,metric='hamming').fit(X)\n",
    "distances, indices = nbrs.kneighbors(X)\n"
   ]
  },
  {
   "cell_type": "code",
   "execution_count": 6,
   "metadata": {},
   "outputs": [],
   "source": [
    "# save\n",
    "file = './tmp/knn_bin'\n",
    "np.savez_compressed(file,nbrs=nbrs,distances=distances,indices=indices)"
   ]
  },
  {
   "cell_type": "markdown",
   "metadata": {},
   "source": [
    "Let's visualize some of the nearest neighbors."
   ]
  },
  {
   "cell_type": "code",
   "execution_count": 7,
   "metadata": {},
   "outputs": [
    {
     "data": {
      "image/png": "[encoded data removed]",
      "text/plain": [
       "<Figure size 432x288 with 1 Axes>"
      ]
     },
     "metadata": {
      "needs_background": "light"
     },
     "output_type": "display_data"
    },
    {
     "data": {
      "image/png": "[encoded data removed]",
      "text/plain": [
       "<Figure size 432x288 with 1 Axes>"
      ]
     },
     "metadata": {
      "needs_background": "light"
     },
     "output_type": "display_data"
    },
    {
     "data": {
      "image/png": "[encoded data removed]",
      "text/plain": [
       "<Figure size 432x288 with 1 Axes>"
      ]
     },
     "metadata": {
      "needs_background": "light"
     },
     "output_type": "display_data"
    },
    {
     "data": {
      "image/png": "[encoded data removed]",
      "text/plain": [
       "<Figure size 432x288 with 1 Axes>"
      ]
     },
     "metadata": {
      "needs_background": "light"
     },
     "output_type": "display_data"
    },
    {
     "data": {
      "image/png": "[encoded data removed]",
      "text/plain": [
       "<Figure size 432x288 with 1 Axes>"
      ]
     },
     "metadata": {
      "needs_background": "light"
     },
     "output_type": "display_data"
    },
    {
     "data": {
      "image/png": "[encoded data removed]",
      "text/plain": [
       "<Figure size 432x288 with 1 Axes>"
      ]
     },
     "metadata": {
      "needs_background": "light"
     },
     "output_type": "display_data"
    },
    {
     "data": {
      "image/png": "[encoded data removed]",
      "text/plain": [
       "<Figure size 432x288 with 1 Axes>"
      ]
     },
     "metadata": {
      "needs_background": "light"
     },
     "output_type": "display_data"
    },
    {
     "data": {
      "image/png": "[encoded data removed]",
      "text/plain": [
       "<Figure size 432x288 with 1 Axes>"
      ]
     },
     "metadata": {
      "needs_background": "light"
     },
     "output_type": "display_data"
    },
    {
     "data": {
      "image/png": "[encoded data removed]",
      "text/plain": [
       "<Figure size 432x288 with 1 Axes>"
      ]
     },
     "metadata": {
      "needs_background": "light"
     },
     "output_type": "display_data"
    },
    {
     "data": {
      "image/png": "[encoded data removed]",
      "text/plain": [
       "<Figure size 432x288 with 1 Axes>"
      ]
     },
     "metadata": {
      "needs_background": "light"
     },
     "output_type": "display_data"
    },
    {
     "data": {
      "image/png": "[encoded data removed]",
      "text/plain": [
       "<Figure size 432x288 with 1 Axes>"
      ]
     },
     "metadata": {
      "needs_background": "light"
     },
     "output_type": "display_data"
    }
   ],
   "source": [
    "target_sample = 80\n",
    "k = 0\n",
    "max_plots = 10 # maximum number of plots\n",
    "for C in x_train[indices[target_sample]]:\n",
    "    Cr = C.reshape(x_train[target_sample].shape)\n",
    "    if k==0:\n",
    "        Cref = Cr\n",
    "        plt.imshow(np.abs(Cr),cmap='gray')\n",
    "    else:\n",
    "        plt.figure()\n",
    "        plt.imshow(np.abs(Cr-Cref),cmap='gray')\n",
    "    plt.grid(None)\n",
    "    k+=1\n",
    "    if k>max_plots:\n",
    "        break"
   ]
  },
  {
   "cell_type": "markdown",
   "metadata": {},
   "source": [
    "Now we do a simple test. Each digit has 30 nearest neighbors in the above graph. We check the average reduction in size if for each neighborhood we keep the differences a opposed to the full digit. This should provide some evidence if compression is actually feasible or not. We will then try to use fancy techniques.\n",
    "\n",
    "We measure \"compression\" in terms of non-zero entries of the dataset for now."
   ]
  },
  {
   "cell_type": "code",
   "execution_count": 8,
   "metadata": {},
   "outputs": [],
   "source": [
    "# create dataframe for storing results\n",
    "df = pd.DataFrame(np.zeros(len(x_train)),columns=['Uncompressed'])\n",
    "df['diff'] = 0\n",
    "#df['quant'] = 0\n",
    "\n",
    "thresh = 5\n",
    "# measure number of non-zero entries\n",
    "for i in range(len(indices)):\n",
    "    ix = indices[i]\n",
    "    df.loc[i,'Uncompressed'] = (np.sum([np.count_nonzero(X[i])  for i in ix[1:]])+np.count_nonzero(X[ix[0]]))/len(ix)\n",
    "    df.loc[i,'diff'] = (np.sum([np.count_nonzero(X[i]-X[ix[0]])  for i in ix[1:]])+np.count_nonzero(X[ix[0]]))/len(ix)\n",
    "    #df.loc[i,'quant'] = (np.sum([np.sum(np.abs(X[i]-X[ix[0]])>=2)  for i in ix[1:]])+np.count_nonzero(X[ix[0]]))/len(ix)"
   ]
  },
  {
   "cell_type": "code",
   "execution_count": 9,
   "metadata": {},
   "outputs": [
    {
     "name": "stdout",
     "output_type": "stream",
     "text": [
      "Mean Uncompressed: 131.04930777777736\n",
      "Mean Diff: 132.39441000000198\n"
     ]
    },
    {
     "data": {
      "text/plain": [
       "<matplotlib.legend.Legend at 0x7f8b8e2dc850>"
      ]
     },
     "execution_count": 9,
     "metadata": {},
     "output_type": "execute_result"
    },
    {
     "data": {
      "image/png": "[encoded data removed]",
      "text/plain": [
       "<Figure size 432x288 with 1 Axes>"
      ]
     },
     "metadata": {
      "needs_background": "light"
     },
     "output_type": "display_data"
    }
   ],
   "source": [
    "# Let's compute summary statistics!\n",
    "print('Mean Uncompressed: '+str(df['Uncompressed'].mean()))\n",
    "print('Mean Diff: '+str(df['diff'].mean()))\n",
    "#print('Quantized Diff: '+str(df['quant'].mean()))\n",
    "\n",
    "df['Uncompressed'].hist(bins=50,alpha=.5,label='Uncompressed')\n",
    "df['diff'].hist(bins=50,alpha=.5,label='diff')\n",
    "#df['quant'].hist(bins=50,alpha=.5,label='quant')\n",
    "plt.legend()"
   ]
  },
  {
   "cell_type": "markdown",
   "metadata": {},
   "source": [
    "Now let's build the similarity graph using networkX."
   ]
  },
  {
   "cell_type": "code",
   "execution_count": 10,
   "metadata": {},
   "outputs": [
    {
     "name": "stdout",
     "output_type": "stream",
     "text": [
      "Connected!\n"
     ]
    }
   ],
   "source": [
    "# Build graph with nodes ordered from 0 to size of dataset\n",
    "n_nodes = len(x_train)\n",
    "G = nx.Graph()\n",
    "G.add_nodes_from(range(n_nodes))\n",
    "\n",
    "# Create dictionary of edge connections\n",
    "# d will be the distance between nodex\n",
    "edge_list = [(i,j,{'d':d}) for i in range(n_nodes)  for (j,d) in zip(indices[i,1:],distances[i,1:]) ] \n",
    "\n",
    "# add edges\n",
    "G.add_edges_from(edge_list)\n",
    "\n",
    "# check if graph is connected\n",
    "n_components = len(list(nx.connected_components(G)))\n",
    "if n_components == 1:\n",
    "    print('Connected!')\n",
    "else:\n",
    "    print('Not connected...')"
   ]
  },
  {
   "cell_type": "code",
   "execution_count": 12,
   "metadata": {},
   "outputs": [],
   "source": [
    "# compute mst\n",
    "T = nx.minimum_spanning_tree(G,weight='d')\n",
    "\n",
    "# compute most connected nodes\n"
   ]
  },
  {
   "cell_type": "code",
   "execution_count": 13,
   "metadata": {},
   "outputs": [],
   "source": [
    "# weights\n",
    "w = [e[2]['d']*28*28 for e in  T.edges(data=True)]\n",
    "\n",
    "# original size\n",
    "original = [np.count_nonzero(x)  for x in X ]"
   ]
  },
  {
   "cell_type": "code",
   "execution_count": 14,
   "metadata": {},
   "outputs": [
    {
     "data": {
      "text/plain": [
       "(array([7.000e+00, 3.000e+01, 1.070e+02, 2.600e+02, 5.670e+02, 9.080e+02,\n",
       "        9.240e+02, 1.067e+03, 1.372e+03, 1.354e+03, 1.588e+03, 2.313e+03,\n",
       "        2.251e+03, 2.518e+03, 3.448e+03, 3.192e+03, 3.405e+03, 4.014e+03,\n",
       "        3.568e+03, 3.399e+03, 3.849e+03, 2.945e+03, 2.723e+03, 2.883e+03,\n",
       "        2.115e+03, 1.831e+03, 1.886e+03, 1.249e+03, 1.031e+03, 9.180e+02,\n",
       "        6.060e+02, 4.660e+02, 3.740e+02, 2.380e+02, 2.000e+02, 1.520e+02,\n",
       "        7.000e+01, 6.200e+01, 3.700e+01, 2.400e+01, 2.200e+01, 1.300e+01,\n",
       "        4.000e+00, 4.000e+00, 2.000e+00, 1.000e+00, 1.000e+00, 1.000e+00,\n",
       "        0.000e+00, 1.000e+00]),\n",
       " array([ 34.  ,  40.34,  46.68,  53.02,  59.36,  65.7 ,  72.04,  78.38,\n",
       "         84.72,  91.06,  97.4 , 103.74, 110.08, 116.42, 122.76, 129.1 ,\n",
       "        135.44, 141.78, 148.12, 154.46, 160.8 , 167.14, 173.48, 179.82,\n",
       "        186.16, 192.5 , 198.84, 205.18, 211.52, 217.86, 224.2 , 230.54,\n",
       "        236.88, 243.22, 249.56, 255.9 , 262.24, 268.58, 274.92, 281.26,\n",
       "        287.6 , 293.94, 300.28, 306.62, 312.96, 319.3 , 325.64, 331.98,\n",
       "        338.32, 344.66, 351.  ]),\n",
       " <a list of 50 Patch objects>)"
      ]
     },
     "execution_count": 14,
     "metadata": {},
     "output_type": "execute_result"
    },
    {
     "data": {
      "image/png": "[encoded data removed]",
      "text/plain": [
       "<Figure size 432x288 with 1 Axes>"
      ]
     },
     "metadata": {
      "needs_background": "light"
     },
     "output_type": "display_data"
    }
   ],
   "source": [
    "plt.hist(w,bins=50,alpha=.8)\n",
    "plt.hist(original,bins=50,alpha=.5)"
   ]
  },
  {
   "cell_type": "code",
   "execution_count": 15,
   "metadata": {},
   "outputs": [
    {
     "data": {
      "text/plain": [
       "116.17773629560493"
      ]
     },
     "execution_count": 15,
     "metadata": {},
     "output_type": "execute_result"
    }
   ],
   "source": [
    "np.mean(w)"
   ]
  },
  {
   "cell_type": "code",
   "execution_count": 16,
   "metadata": {},
   "outputs": [
    {
     "data": {
      "text/plain": [
       "149.9026"
      ]
     },
     "execution_count": 16,
     "metadata": {},
     "output_type": "execute_result"
    }
   ],
   "source": [
    "np.mean(original)"
   ]
  },
  {
   "cell_type": "code",
   "execution_count": null,
   "metadata": {},
   "outputs": [],
   "source": [
    "# measure betweeness\n",
    "cent = nx.closeness_centrality(T)"
   ]
  },
  {
   "cell_type": "code",
   "execution_count": 86,
   "metadata": {},
   "outputs": [
    {
     "data": {
      "text/plain": [
       "<matplotlib.image.AxesImage at 0x7f6197761910>"
      ]
     },
     "execution_count": 86,
     "metadata": {},
     "output_type": "execute_result"
    },
    {
     "data": {
      "image/png": "[encoded data removed]",
      "text/plain": [
       "<Figure size 432x288 with 1 Axes>"
      ]
     },
     "metadata": {
      "needs_background": "light"
     },
     "output_type": "display_data"
    }
   ],
   "source": [
    "plt.imshow(x_train[pd.Series(cent).sort_values().index[-204]],cmap='gray')"
   ]
  },
  {
   "cell_type": "code",
   "execution_count": 91,
   "metadata": {},
   "outputs": [
    {
     "name": "stdout",
     "output_type": "stream",
     "text": [
      "Size of training dataset in sparse uint8 and compressed format: 0.000332MB\n"
     ]
    }
   ],
   "source": [
    "\n",
    "# compress file\n",
    "file = './tmp/xtrain_vals'\n",
    "np.savez_compressed(file,vals=np.concatenate([x[x!=0] for x in x_train]).sort())\n",
    "\n",
    "# let's look at the size of the dataset\n",
    "print('Size of training dataset in sparse uint8 and compressed format: ' + str(os.path.getsize(file+'.npz')/1e6) + 'MB')"
   ]
  },
  {
   "cell_type": "code",
   "execution_count": 57,
   "metadata": {},
   "outputs": [
    {
     "data": {
      "text/plain": [
       "(array([0.40943878, 0.47704082, 0.51403061, 0.54591837, 0.57780612,\n",
       "        0.59566327, 0.61989796, 0.64285714, 0.65688776, 0.67857143,\n",
       "        0.70663265, 0.71938776, 0.74234694, 0.7627551 , 0.78826531,\n",
       "        0.82653061, 0.87117347, 0.91964286, 0.9744898 , 1.        ]),\n",
       " array([0.        , 0.18503549, 0.37007097, 0.55510646, 0.74014194,\n",
       "        0.92517743, 1.11021291, 1.2952484 , 1.48028388, 1.66531937,\n",
       "        1.85035485, 2.03539034, 2.22042582, 2.40546131, 2.5904968 ,\n",
       "        2.77553228, 2.96056777, 3.14560325, 3.33063874, 3.51567422,\n",
       "        3.70070971]),\n",
       " <a list of 20 Patch objects>)"
      ]
     },
     "execution_count": 57,
     "metadata": {},
     "output_type": "execute_result"
    },
    {
     "data": {
      "image/png": "[encoded data removed]",
      "text/plain": [
       "<Figure size 432x288 with 1 Axes>"
      ]
     },
     "metadata": {
      "needs_background": "light"
     },
     "output_type": "display_data"
    }
   ],
   "source": [
    "X = np.array([np.ravel(x) for x in x_train])\n",
    "\n",
    "df = pd.DataFrame(X)\n",
    "\n",
    "counts = [df[i].value_counts()/len(df) for i in df]\n",
    "entropy = np.array([(-c*np.log(c)).sum() for c in counts])\n",
    "\n",
    "plt.hist(entropy,bins = 20,cumulative=True,density=True)"
   ]
  },
  {
   "cell_type": "code",
   "execution_count": 110,
   "metadata": {},
   "outputs": [
    {
     "name": "stdout",
     "output_type": "stream",
     "text": [
      "Size of training dataset in sparse uint8 and compressed format: 11.966514MB\n"
     ]
    }
   ],
   "source": [
    "dE = pd.Series(entropy)\n",
    "feat = dE.sort_values().index.to_list()\n",
    "Z = np.array([x[np.unravel_index(feat,(28,28))] for x in x_train])\n",
    "#Z = x_train\n",
    "\n",
    "# compress file\n",
    "file = './tmp/xtrain_sort'\n",
    "np.savez_compressed(file,vals=Z.transpose().astype(np.uint8))\n",
    "\n",
    "# let's look at the size of the dataset\n",
    "print('Size of training dataset in sparse uint8 and compressed format: ' + str(os.path.getsize(file+'.npz')/1e6) + 'MB')"
   ]
  },
  {
   "cell_type": "code",
   "execution_count": 109,
   "metadata": {},
   "outputs": [
    {
     "data": {
      "text/plain": [
       "(60000, 784)"
      ]
     },
     "execution_count": 109,
     "metadata": {},
     "output_type": "execute_result"
    }
   ],
   "source": [
    "Z.shape"
   ]
  },
  {
   "cell_type": "code",
   "execution_count": 124,
   "metadata": {},
   "outputs": [
    {
     "name": "stdout",
     "output_type": "stream",
     "text": [
      "Size of training dataset in sparse uint8 and compressed format: 24.259211MB\n"
     ]
    }
   ],
   "source": [
    "# We convert the matrix to sparse format. The numbers are in np.uint8.\n",
    "Xs = [sp.coo_matrix(x,dtype=np.uint8) for x in x_train]\n",
    "data = np.concatenate([x.data.astype(np.uint8) for x in Xs])\n",
    "row = np.concatenate([x.row.astype(np.uint8) for x in Xs])\n",
    "col = np.concatenate([x.col.astype(np.uint8) for x in Xs])\n",
    "\n",
    "sample = []\n",
    "k=0\n",
    "for x in Xs:\n",
    "    sample.append(k*np.ones(len(x.data)))\n",
    "    k+=1\n",
    "\n",
    "sample = np.concatenate(sample).astype(np.uint16)\n",
    "\n",
    "ix = np.argsort(data)\n",
    "\n",
    "\n",
    "# compress file\n",
    "file = './tmp/xtrain'\n",
    "np.savez_compressed(file,data=data[ix],row=row[ix],col=col[ix],sample=sample[ix])\n",
    "\n",
    "# let's look at the size of the dataset\n",
    "print('Size of training dataset in sparse uint8 and compressed format: ' + str(os.path.getsize(file+'.npz')/1e6) + 'MB')\n",
    "\n"
   ]
  },
  {
   "cell_type": "code",
   "execution_count": 115,
   "metadata": {},
   "outputs": [],
   "source": [
    "sample = []\n",
    "k=0\n",
    "for x in Xs:\n",
    "    sample.append([k*np.ones(len(x.data))])\n",
    "    k+=1"
   ]
  },
  {
   "cell_type": "code",
   "execution_count": 123,
   "metadata": {},
   "outputs": [
    {
     "data": {
      "text/plain": [
       "array([  1,   1,   1, ..., 255, 255, 255], dtype=uint8)"
      ]
     },
     "execution_count": 123,
     "metadata": {},
     "output_type": "execute_result"
    }
   ],
   "source": [
    "data[np.argsort(data)]"
   ]
  },
  {
   "cell_type": "code",
   "execution_count": 126,
   "metadata": {},
   "outputs": [
    {
     "data": {
      "text/plain": [
       "120000"
      ]
     },
     "execution_count": 126,
     "metadata": {},
     "output_type": "execute_result"
    }
   ],
   "source": [
    "2*60000"
   ]
  },
  {
   "cell_type": "code",
   "execution_count": null,
   "metadata": {},
   "outputs": [],
   "source": []
  }
 ],
 "metadata": {
  "kernelspec": {
   "display_name": "Python 3",
   "language": "python",
   "name": "python3"
  },
  "language_info": {
   "codemirror_mode": {
    "name": "ipython",
    "version": 3
   },
   "file_extension": ".py",
   "mimetype": "text/x-python",
   "name": "python",
   "nbconvert_exporter": "python",
   "pygments_lexer": "ipython3",
   "version": "3.7.4"
  }
 },
 "nbformat": 4,
 "nbformat_minor": 4
}
